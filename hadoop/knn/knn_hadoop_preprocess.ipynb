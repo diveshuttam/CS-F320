{
  "nbformat": 4,
  "nbformat_minor": 0,
  "metadata": {
    "colab": {
      "name": "knn-hadoop-preprocess.ipynb",
      "provenance": []
    },
    "kernelspec": {
      "name": "python3",
      "display_name": "Python 3"
    }
  },
  "cells": [
    {
      "cell_type": "code",
      "metadata": {
        "id": "EOf5P0Qj4Z-9",
        "colab_type": "code",
        "colab": {}
      },
      "source": [
        "\n",
        "%matplotlib inline\n",
        "import numpy as np\n",
        "import pandas as pd\n",
        "import os\n",
        "import matplotlib.pyplot as plt"
      ],
      "execution_count": 0,
      "outputs": []
    },
    {
      "cell_type": "code",
      "metadata": {
        "id": "y-eRqBSk4oIm",
        "colab_type": "code",
        "colab": {}
      },
      "source": [
        "from sklearn import preprocessing\n"
      ],
      "execution_count": 0,
      "outputs": []
    },
    {
      "cell_type": "code",
      "metadata": {
        "id": "fU2Ylobg6IIe",
        "colab_type": "code",
        "colab": {}
      },
      "source": [
        "data = pd.read_csv('shuttle.trn', header = None, sep=' ')\n"
      ],
      "execution_count": 0,
      "outputs": []
    },
    {
      "cell_type": "code",
      "metadata": {
        "id": "CamVajbP6Rhl",
        "colab_type": "code",
        "colab": {
          "base_uri": "https://localhost:8080/",
          "height": 204
        },
        "outputId": "59ced17b-0ee5-4fda-ba7d-4181090956ce"
      },
      "source": [
        "data.head()"
      ],
      "execution_count": 4,
      "outputs": [
        {
          "output_type": "execute_result",
          "data": {
            "text/html": [
              "<div>\n",
              "<style scoped>\n",
              "    .dataframe tbody tr th:only-of-type {\n",
              "        vertical-align: middle;\n",
              "    }\n",
              "\n",
              "    .dataframe tbody tr th {\n",
              "        vertical-align: top;\n",
              "    }\n",
              "\n",
              "    .dataframe thead th {\n",
              "        text-align: right;\n",
              "    }\n",
              "</style>\n",
              "<table border=\"1\" class=\"dataframe\">\n",
              "  <thead>\n",
              "    <tr style=\"text-align: right;\">\n",
              "      <th></th>\n",
              "      <th>0</th>\n",
              "      <th>1</th>\n",
              "      <th>2</th>\n",
              "      <th>3</th>\n",
              "      <th>4</th>\n",
              "      <th>5</th>\n",
              "      <th>6</th>\n",
              "      <th>7</th>\n",
              "      <th>8</th>\n",
              "      <th>9</th>\n",
              "    </tr>\n",
              "  </thead>\n",
              "  <tbody>\n",
              "    <tr>\n",
              "      <th>0</th>\n",
              "      <td>50</td>\n",
              "      <td>21</td>\n",
              "      <td>77</td>\n",
              "      <td>0</td>\n",
              "      <td>28</td>\n",
              "      <td>0</td>\n",
              "      <td>27</td>\n",
              "      <td>48</td>\n",
              "      <td>22</td>\n",
              "      <td>2</td>\n",
              "    </tr>\n",
              "    <tr>\n",
              "      <th>1</th>\n",
              "      <td>55</td>\n",
              "      <td>0</td>\n",
              "      <td>92</td>\n",
              "      <td>0</td>\n",
              "      <td>0</td>\n",
              "      <td>26</td>\n",
              "      <td>36</td>\n",
              "      <td>92</td>\n",
              "      <td>56</td>\n",
              "      <td>4</td>\n",
              "    </tr>\n",
              "    <tr>\n",
              "      <th>2</th>\n",
              "      <td>53</td>\n",
              "      <td>0</td>\n",
              "      <td>82</td>\n",
              "      <td>0</td>\n",
              "      <td>52</td>\n",
              "      <td>-5</td>\n",
              "      <td>29</td>\n",
              "      <td>30</td>\n",
              "      <td>2</td>\n",
              "      <td>1</td>\n",
              "    </tr>\n",
              "    <tr>\n",
              "      <th>3</th>\n",
              "      <td>37</td>\n",
              "      <td>0</td>\n",
              "      <td>76</td>\n",
              "      <td>0</td>\n",
              "      <td>28</td>\n",
              "      <td>18</td>\n",
              "      <td>40</td>\n",
              "      <td>48</td>\n",
              "      <td>8</td>\n",
              "      <td>1</td>\n",
              "    </tr>\n",
              "    <tr>\n",
              "      <th>4</th>\n",
              "      <td>37</td>\n",
              "      <td>0</td>\n",
              "      <td>79</td>\n",
              "      <td>0</td>\n",
              "      <td>34</td>\n",
              "      <td>-26</td>\n",
              "      <td>43</td>\n",
              "      <td>46</td>\n",
              "      <td>2</td>\n",
              "      <td>1</td>\n",
              "    </tr>\n",
              "  </tbody>\n",
              "</table>\n",
              "</div>"
            ],
            "text/plain": [
              "    0   1   2  3   4   5   6   7   8  9\n",
              "0  50  21  77  0  28   0  27  48  22  2\n",
              "1  55   0  92  0   0  26  36  92  56  4\n",
              "2  53   0  82  0  52  -5  29  30   2  1\n",
              "3  37   0  76  0  28  18  40  48   8  1\n",
              "4  37   0  79  0  34 -26  43  46   2  1"
            ]
          },
          "metadata": {
            "tags": []
          },
          "execution_count": 4
        }
      ]
    },
    {
      "cell_type": "code",
      "metadata": {
        "id": "OeeSkDgWBBkJ",
        "colab_type": "code",
        "colab": {
          "base_uri": "https://localhost:8080/",
          "height": 34
        },
        "outputId": "cff68e0f-3672-427d-e697-dc1610b57882"
      },
      "source": [
        "data.shape"
      ],
      "execution_count": 5,
      "outputs": [
        {
          "output_type": "execute_result",
          "data": {
            "text/plain": [
              "(43500, 10)"
            ]
          },
          "metadata": {
            "tags": []
          },
          "execution_count": 5
        }
      ]
    },
    {
      "cell_type": "code",
      "metadata": {
        "id": "UpGBp5qIBkpi",
        "colab_type": "code",
        "colab": {}
      },
      "source": [
        "col9 = data[9]\n",
        "data2 = data.drop(columns=9)\n"
      ],
      "execution_count": 0,
      "outputs": []
    },
    {
      "cell_type": "code",
      "metadata": {
        "id": "7vmfyAadBoaI",
        "colab_type": "code",
        "colab": {
          "base_uri": "https://localhost:8080/",
          "height": 204
        },
        "outputId": "d0fcc7eb-12a0-4cad-ae9c-4a29029779ff"
      },
      "source": [
        "data2.head()"
      ],
      "execution_count": 7,
      "outputs": [
        {
          "output_type": "execute_result",
          "data": {
            "text/html": [
              "<div>\n",
              "<style scoped>\n",
              "    .dataframe tbody tr th:only-of-type {\n",
              "        vertical-align: middle;\n",
              "    }\n",
              "\n",
              "    .dataframe tbody tr th {\n",
              "        vertical-align: top;\n",
              "    }\n",
              "\n",
              "    .dataframe thead th {\n",
              "        text-align: right;\n",
              "    }\n",
              "</style>\n",
              "<table border=\"1\" class=\"dataframe\">\n",
              "  <thead>\n",
              "    <tr style=\"text-align: right;\">\n",
              "      <th></th>\n",
              "      <th>0</th>\n",
              "      <th>1</th>\n",
              "      <th>2</th>\n",
              "      <th>3</th>\n",
              "      <th>4</th>\n",
              "      <th>5</th>\n",
              "      <th>6</th>\n",
              "      <th>7</th>\n",
              "      <th>8</th>\n",
              "    </tr>\n",
              "  </thead>\n",
              "  <tbody>\n",
              "    <tr>\n",
              "      <th>0</th>\n",
              "      <td>50</td>\n",
              "      <td>21</td>\n",
              "      <td>77</td>\n",
              "      <td>0</td>\n",
              "      <td>28</td>\n",
              "      <td>0</td>\n",
              "      <td>27</td>\n",
              "      <td>48</td>\n",
              "      <td>22</td>\n",
              "    </tr>\n",
              "    <tr>\n",
              "      <th>1</th>\n",
              "      <td>55</td>\n",
              "      <td>0</td>\n",
              "      <td>92</td>\n",
              "      <td>0</td>\n",
              "      <td>0</td>\n",
              "      <td>26</td>\n",
              "      <td>36</td>\n",
              "      <td>92</td>\n",
              "      <td>56</td>\n",
              "    </tr>\n",
              "    <tr>\n",
              "      <th>2</th>\n",
              "      <td>53</td>\n",
              "      <td>0</td>\n",
              "      <td>82</td>\n",
              "      <td>0</td>\n",
              "      <td>52</td>\n",
              "      <td>-5</td>\n",
              "      <td>29</td>\n",
              "      <td>30</td>\n",
              "      <td>2</td>\n",
              "    </tr>\n",
              "    <tr>\n",
              "      <th>3</th>\n",
              "      <td>37</td>\n",
              "      <td>0</td>\n",
              "      <td>76</td>\n",
              "      <td>0</td>\n",
              "      <td>28</td>\n",
              "      <td>18</td>\n",
              "      <td>40</td>\n",
              "      <td>48</td>\n",
              "      <td>8</td>\n",
              "    </tr>\n",
              "    <tr>\n",
              "      <th>4</th>\n",
              "      <td>37</td>\n",
              "      <td>0</td>\n",
              "      <td>79</td>\n",
              "      <td>0</td>\n",
              "      <td>34</td>\n",
              "      <td>-26</td>\n",
              "      <td>43</td>\n",
              "      <td>46</td>\n",
              "      <td>2</td>\n",
              "    </tr>\n",
              "  </tbody>\n",
              "</table>\n",
              "</div>"
            ],
            "text/plain": [
              "    0   1   2  3   4   5   6   7   8\n",
              "0  50  21  77  0  28   0  27  48  22\n",
              "1  55   0  92  0   0  26  36  92  56\n",
              "2  53   0  82  0  52  -5  29  30   2\n",
              "3  37   0  76  0  28  18  40  48   8\n",
              "4  37   0  79  0  34 -26  43  46   2"
            ]
          },
          "metadata": {
            "tags": []
          },
          "execution_count": 7
        }
      ]
    },
    {
      "cell_type": "code",
      "metadata": {
        "id": "r2Wc8qF0Bole",
        "colab_type": "code",
        "colab": {
          "base_uri": "https://localhost:8080/",
          "height": 119
        },
        "outputId": "83917563-62f2-446f-a9f7-f3fd0c3feb2f"
      },
      "source": [
        "col9.head()"
      ],
      "execution_count": 8,
      "outputs": [
        {
          "output_type": "execute_result",
          "data": {
            "text/plain": [
              "0    2\n",
              "1    4\n",
              "2    1\n",
              "3    1\n",
              "4    1\n",
              "Name: 9, dtype: int64"
            ]
          },
          "metadata": {
            "tags": []
          },
          "execution_count": 8
        }
      ]
    },
    {
      "cell_type": "code",
      "metadata": {
        "id": "20sBes9EBoxD",
        "colab_type": "code",
        "colab": {}
      },
      "source": [
        ""
      ],
      "execution_count": 0,
      "outputs": []
    },
    {
      "cell_type": "code",
      "metadata": {
        "id": "JMGPG-_-6S6O",
        "colab_type": "code",
        "colab": {
          "base_uri": "https://localhost:8080/",
          "height": 34
        },
        "outputId": "32099e0a-cdf9-43b7-ebcf-bf34e11b349b"
      },
      "source": [
        "\n",
        "from sklearn import preprocessing# Get column names first\n",
        "names = data.columns[:-1]# Create the Scaler object\n",
        "print(names)\n",
        "scaler = preprocessing.StandardScaler()# Fit your data on the scaler object\n",
        "scaled_df = scaler.fit_transform(data2)\n",
        "scaled_df = pd.DataFrame(scaled_df, columns=names)"
      ],
      "execution_count": 9,
      "outputs": [
        {
          "output_type": "stream",
          "text": [
            "Int64Index([0, 1, 2, 3, 4, 5, 6, 7, 8], dtype='int64')\n"
          ],
          "name": "stdout"
        }
      ]
    },
    {
      "cell_type": "code",
      "metadata": {
        "id": "dbil1VOp6tWs",
        "colab_type": "code",
        "colab": {
          "base_uri": "https://localhost:8080/",
          "height": 224
        },
        "outputId": "fc53bfe2-4201-4fb0-e8c7-2a896c8a3cca"
      },
      "source": [
        "scaled_df.head()"
      ],
      "execution_count": 10,
      "outputs": [
        {
          "output_type": "execute_result",
          "data": {
            "text/html": [
              "<div>\n",
              "<style scoped>\n",
              "    .dataframe tbody tr th:only-of-type {\n",
              "        vertical-align: middle;\n",
              "    }\n",
              "\n",
              "    .dataframe tbody tr th {\n",
              "        vertical-align: top;\n",
              "    }\n",
              "\n",
              "    .dataframe thead th {\n",
              "        text-align: right;\n",
              "    }\n",
              "</style>\n",
              "<table border=\"1\" class=\"dataframe\">\n",
              "  <thead>\n",
              "    <tr style=\"text-align: right;\">\n",
              "      <th></th>\n",
              "      <th>0</th>\n",
              "      <th>1</th>\n",
              "      <th>2</th>\n",
              "      <th>3</th>\n",
              "      <th>4</th>\n",
              "      <th>5</th>\n",
              "      <th>6</th>\n",
              "      <th>7</th>\n",
              "      <th>8</th>\n",
              "    </tr>\n",
              "  </thead>\n",
              "  <tbody>\n",
              "    <tr>\n",
              "      <th>0</th>\n",
              "      <td>0.142849</td>\n",
              "      <td>0.271367</td>\n",
              "      <td>-0.936360</td>\n",
              "      <td>-0.006408</td>\n",
              "      <td>-0.300822</td>\n",
              "      <td>-0.007233</td>\n",
              "      <td>-0.766977</td>\n",
              "      <td>-0.135110</td>\n",
              "      <td>0.313294</td>\n",
              "    </tr>\n",
              "    <tr>\n",
              "      <th>1</th>\n",
              "      <td>0.550930</td>\n",
              "      <td>0.002625</td>\n",
              "      <td>0.747425</td>\n",
              "      <td>-0.006408</td>\n",
              "      <td>-1.590956</td>\n",
              "      <td>0.137626</td>\n",
              "      <td>-0.081806</td>\n",
              "      <td>1.914930</td>\n",
              "      <td>1.638928</td>\n",
              "    </tr>\n",
              "    <tr>\n",
              "      <th>2</th>\n",
              "      <td>0.387697</td>\n",
              "      <td>0.002625</td>\n",
              "      <td>-0.375098</td>\n",
              "      <td>-0.006408</td>\n",
              "      <td>0.805008</td>\n",
              "      <td>-0.035091</td>\n",
              "      <td>-0.614717</td>\n",
              "      <td>-0.973762</td>\n",
              "      <td>-0.466490</td>\n",
              "    </tr>\n",
              "    <tr>\n",
              "      <th>3</th>\n",
              "      <td>-0.918161</td>\n",
              "      <td>0.002625</td>\n",
              "      <td>-1.048612</td>\n",
              "      <td>-0.006408</td>\n",
              "      <td>-0.300822</td>\n",
              "      <td>0.093054</td>\n",
              "      <td>0.222715</td>\n",
              "      <td>-0.135110</td>\n",
              "      <td>-0.232555</td>\n",
              "    </tr>\n",
              "    <tr>\n",
              "      <th>4</th>\n",
              "      <td>-0.918161</td>\n",
              "      <td>0.002625</td>\n",
              "      <td>-0.711855</td>\n",
              "      <td>-0.006408</td>\n",
              "      <td>-0.024364</td>\n",
              "      <td>-0.152092</td>\n",
              "      <td>0.451105</td>\n",
              "      <td>-0.228293</td>\n",
              "      <td>-0.466490</td>\n",
              "    </tr>\n",
              "  </tbody>\n",
              "</table>\n",
              "</div>"
            ],
            "text/plain": [
              "          0         1         2  ...         6         7         8\n",
              "0  0.142849  0.271367 -0.936360  ... -0.766977 -0.135110  0.313294\n",
              "1  0.550930  0.002625  0.747425  ... -0.081806  1.914930  1.638928\n",
              "2  0.387697  0.002625 -0.375098  ... -0.614717 -0.973762 -0.466490\n",
              "3 -0.918161  0.002625 -1.048612  ...  0.222715 -0.135110 -0.232555\n",
              "4 -0.918161  0.002625 -0.711855  ...  0.451105 -0.228293 -0.466490\n",
              "\n",
              "[5 rows x 9 columns]"
            ]
          },
          "metadata": {
            "tags": []
          },
          "execution_count": 10
        }
      ]
    },
    {
      "cell_type": "code",
      "metadata": {
        "id": "nMKLaUxuB-pp",
        "colab_type": "code",
        "colab": {}
      },
      "source": [
        "scaled_df = scaled_df.join(col9)"
      ],
      "execution_count": 0,
      "outputs": []
    },
    {
      "cell_type": "code",
      "metadata": {
        "id": "fI-roqiUEXLO",
        "colab_type": "code",
        "colab": {
          "base_uri": "https://localhost:8080/",
          "height": 439
        },
        "outputId": "6e7641da-76ae-4a55-bde9-b7d2a37edd26"
      },
      "source": [
        "scaled_df"
      ],
      "execution_count": 20,
      "outputs": [
        {
          "output_type": "execute_result",
          "data": {
            "text/html": [
              "<div>\n",
              "<style scoped>\n",
              "    .dataframe tbody tr th:only-of-type {\n",
              "        vertical-align: middle;\n",
              "    }\n",
              "\n",
              "    .dataframe tbody tr th {\n",
              "        vertical-align: top;\n",
              "    }\n",
              "\n",
              "    .dataframe thead th {\n",
              "        text-align: right;\n",
              "    }\n",
              "</style>\n",
              "<table border=\"1\" class=\"dataframe\">\n",
              "  <thead>\n",
              "    <tr style=\"text-align: right;\">\n",
              "      <th></th>\n",
              "      <th>0</th>\n",
              "      <th>1</th>\n",
              "      <th>2</th>\n",
              "      <th>3</th>\n",
              "      <th>4</th>\n",
              "      <th>5</th>\n",
              "      <th>6</th>\n",
              "      <th>7</th>\n",
              "      <th>8</th>\n",
              "      <th>9</th>\n",
              "    </tr>\n",
              "  </thead>\n",
              "  <tbody>\n",
              "    <tr>\n",
              "      <th>0</th>\n",
              "      <td>0.142849</td>\n",
              "      <td>0.271367</td>\n",
              "      <td>-0.936360</td>\n",
              "      <td>-0.006408</td>\n",
              "      <td>-0.300822</td>\n",
              "      <td>-0.007233</td>\n",
              "      <td>-0.766977</td>\n",
              "      <td>-0.135110</td>\n",
              "      <td>0.313294</td>\n",
              "      <td>2</td>\n",
              "    </tr>\n",
              "    <tr>\n",
              "      <th>1</th>\n",
              "      <td>0.550930</td>\n",
              "      <td>0.002625</td>\n",
              "      <td>0.747425</td>\n",
              "      <td>-0.006408</td>\n",
              "      <td>-1.590956</td>\n",
              "      <td>0.137626</td>\n",
              "      <td>-0.081806</td>\n",
              "      <td>1.914930</td>\n",
              "      <td>1.638928</td>\n",
              "      <td>4</td>\n",
              "    </tr>\n",
              "    <tr>\n",
              "      <th>2</th>\n",
              "      <td>0.387697</td>\n",
              "      <td>0.002625</td>\n",
              "      <td>-0.375098</td>\n",
              "      <td>-0.006408</td>\n",
              "      <td>0.805008</td>\n",
              "      <td>-0.035091</td>\n",
              "      <td>-0.614717</td>\n",
              "      <td>-0.973762</td>\n",
              "      <td>-0.466490</td>\n",
              "      <td>1</td>\n",
              "    </tr>\n",
              "    <tr>\n",
              "      <th>3</th>\n",
              "      <td>-0.918161</td>\n",
              "      <td>0.002625</td>\n",
              "      <td>-1.048612</td>\n",
              "      <td>-0.006408</td>\n",
              "      <td>-0.300822</td>\n",
              "      <td>0.093054</td>\n",
              "      <td>0.222715</td>\n",
              "      <td>-0.135110</td>\n",
              "      <td>-0.232555</td>\n",
              "      <td>1</td>\n",
              "    </tr>\n",
              "    <tr>\n",
              "      <th>4</th>\n",
              "      <td>-0.918161</td>\n",
              "      <td>0.002625</td>\n",
              "      <td>-0.711855</td>\n",
              "      <td>-0.006408</td>\n",
              "      <td>-0.024364</td>\n",
              "      <td>-0.152092</td>\n",
              "      <td>0.451105</td>\n",
              "      <td>-0.228293</td>\n",
              "      <td>-0.466490</td>\n",
              "      <td>1</td>\n",
              "    </tr>\n",
              "    <tr>\n",
              "      <th>...</th>\n",
              "      <td>...</td>\n",
              "      <td>...</td>\n",
              "      <td>...</td>\n",
              "      <td>...</td>\n",
              "      <td>...</td>\n",
              "      <td>...</td>\n",
              "      <td>...</td>\n",
              "      <td>...</td>\n",
              "      <td>...</td>\n",
              "      <td>...</td>\n",
              "    </tr>\n",
              "    <tr>\n",
              "      <th>43495</th>\n",
              "      <td>-0.183616</td>\n",
              "      <td>0.066611</td>\n",
              "      <td>-0.824108</td>\n",
              "      <td>-0.006408</td>\n",
              "      <td>0.528551</td>\n",
              "      <td>0.020624</td>\n",
              "      <td>-0.386326</td>\n",
              "      <td>-0.880579</td>\n",
              "      <td>-0.544469</td>\n",
              "      <td>1</td>\n",
              "    </tr>\n",
              "    <tr>\n",
              "      <th>43496</th>\n",
              "      <td>-0.918161</td>\n",
              "      <td>0.002625</td>\n",
              "      <td>-0.711855</td>\n",
              "      <td>-0.030796</td>\n",
              "      <td>-1.130194</td>\n",
              "      <td>0.009481</td>\n",
              "      <td>0.451105</td>\n",
              "      <td>0.843318</td>\n",
              "      <td>0.469251</td>\n",
              "      <td>1</td>\n",
              "    </tr>\n",
              "    <tr>\n",
              "      <th>43497</th>\n",
              "      <td>-0.020383</td>\n",
              "      <td>0.002625</td>\n",
              "      <td>-0.824108</td>\n",
              "      <td>0.066757</td>\n",
              "      <td>0.528551</td>\n",
              "      <td>-0.007233</td>\n",
              "      <td>-0.538586</td>\n",
              "      <td>-0.880579</td>\n",
              "      <td>-0.466490</td>\n",
              "      <td>1</td>\n",
              "    </tr>\n",
              "    <tr>\n",
              "      <th>43498</th>\n",
              "      <td>-0.591696</td>\n",
              "      <td>0.002625</td>\n",
              "      <td>-0.711855</td>\n",
              "      <td>-0.006408</td>\n",
              "      <td>0.159941</td>\n",
              "      <td>-0.146521</td>\n",
              "      <td>0.070454</td>\n",
              "      <td>-0.507844</td>\n",
              "      <td>-0.466490</td>\n",
              "      <td>1</td>\n",
              "    </tr>\n",
              "    <tr>\n",
              "      <th>43499</th>\n",
              "      <td>-0.673313</td>\n",
              "      <td>-0.035767</td>\n",
              "      <td>1.645444</td>\n",
              "      <td>-0.006408</td>\n",
              "      <td>0.159941</td>\n",
              "      <td>-0.007233</td>\n",
              "      <td>1.821447</td>\n",
              "      <td>0.517175</td>\n",
              "      <td>-0.466490</td>\n",
              "      <td>1</td>\n",
              "    </tr>\n",
              "  </tbody>\n",
              "</table>\n",
              "<p>43500 rows × 10 columns</p>\n",
              "</div>"
            ],
            "text/plain": [
              "              0         1         2         3  ...         6         7         8  9\n",
              "0      0.142849  0.271367 -0.936360 -0.006408  ... -0.766977 -0.135110  0.313294  2\n",
              "1      0.550930  0.002625  0.747425 -0.006408  ... -0.081806  1.914930  1.638928  4\n",
              "2      0.387697  0.002625 -0.375098 -0.006408  ... -0.614717 -0.973762 -0.466490  1\n",
              "3     -0.918161  0.002625 -1.048612 -0.006408  ...  0.222715 -0.135110 -0.232555  1\n",
              "4     -0.918161  0.002625 -0.711855 -0.006408  ...  0.451105 -0.228293 -0.466490  1\n",
              "...         ...       ...       ...       ...  ...       ...       ...       ... ..\n",
              "43495 -0.183616  0.066611 -0.824108 -0.006408  ... -0.386326 -0.880579 -0.544469  1\n",
              "43496 -0.918161  0.002625 -0.711855 -0.030796  ...  0.451105  0.843318  0.469251  1\n",
              "43497 -0.020383  0.002625 -0.824108  0.066757  ... -0.538586 -0.880579 -0.466490  1\n",
              "43498 -0.591696  0.002625 -0.711855 -0.006408  ...  0.070454 -0.507844 -0.466490  1\n",
              "43499 -0.673313 -0.035767  1.645444 -0.006408  ...  1.821447  0.517175 -0.466490  1\n",
              "\n",
              "[43500 rows x 10 columns]"
            ]
          },
          "metadata": {
            "tags": []
          },
          "execution_count": 20
        }
      ]
    },
    {
      "cell_type": "code",
      "metadata": {
        "id": "mqyRUhgU634E",
        "colab_type": "code",
        "colab": {}
      },
      "source": [
        "scaled_df.to_csv('train.csv', index=False)"
      ],
      "execution_count": 0,
      "outputs": []
    },
    {
      "cell_type": "code",
      "metadata": {
        "id": "MQM-XRxu7Gwj",
        "colab_type": "code",
        "colab": {}
      },
      "source": [
        "data = pd.read_csv('shuttle.tst', header = None, sep=' ')\n",
        "data3 = data.drop(columns=9)\n",
        "col9t = data[9]"
      ],
      "execution_count": 0,
      "outputs": []
    },
    {
      "cell_type": "code",
      "metadata": {
        "id": "ZUU4DuGd7ZBt",
        "colab_type": "code",
        "colab": {}
      },
      "source": [
        "\n",
        "from sklearn import preprocessing# Get column names first\n",
        "names = data.columns[:-1]# Create the Scaler object\n",
        "scaler = preprocessing.StandardScaler()# Fit your data on the scaler object\n",
        "scaled_df1 = scaler.fit_transform(data3)\n",
        "scaled_df1 = pd.DataFrame(scaled_df1, columns=names)"
      ],
      "execution_count": 0,
      "outputs": []
    },
    {
      "cell_type": "code",
      "metadata": {
        "id": "l6NSddwT7efj",
        "colab_type": "code",
        "colab": {
          "base_uri": "https://localhost:8080/",
          "height": 224
        },
        "outputId": "f7cb67ce-5db6-43af-8414-5b3fe55f76e8"
      },
      "source": [
        "scaled_df1.head()"
      ],
      "execution_count": 16,
      "outputs": [
        {
          "output_type": "execute_result",
          "data": {
            "text/html": [
              "<div>\n",
              "<style scoped>\n",
              "    .dataframe tbody tr th:only-of-type {\n",
              "        vertical-align: middle;\n",
              "    }\n",
              "\n",
              "    .dataframe tbody tr th {\n",
              "        vertical-align: top;\n",
              "    }\n",
              "\n",
              "    .dataframe thead th {\n",
              "        text-align: right;\n",
              "    }\n",
              "</style>\n",
              "<table border=\"1\" class=\"dataframe\">\n",
              "  <thead>\n",
              "    <tr style=\"text-align: right;\">\n",
              "      <th></th>\n",
              "      <th>0</th>\n",
              "      <th>1</th>\n",
              "      <th>2</th>\n",
              "      <th>3</th>\n",
              "      <th>4</th>\n",
              "      <th>5</th>\n",
              "      <th>6</th>\n",
              "      <th>7</th>\n",
              "      <th>8</th>\n",
              "    </tr>\n",
              "  </thead>\n",
              "  <tbody>\n",
              "    <tr>\n",
              "      <th>0</th>\n",
              "      <td>0.557315</td>\n",
              "      <td>-0.006946</td>\n",
              "      <td>-0.492030</td>\n",
              "      <td>-0.014676</td>\n",
              "      <td>-1.886377</td>\n",
              "      <td>0.027786</td>\n",
              "      <td>-0.931508</td>\n",
              "      <td>1.746157</td>\n",
              "      <td>1.966424</td>\n",
              "    </tr>\n",
              "    <tr>\n",
              "      <th>1</th>\n",
              "      <td>0.639320</td>\n",
              "      <td>-0.006946</td>\n",
              "      <td>1.196168</td>\n",
              "      <td>-0.014676</td>\n",
              "      <td>0.807578</td>\n",
              "      <td>-0.021468</td>\n",
              "      <td>0.218920</td>\n",
              "      <td>-0.321336</td>\n",
              "      <td>-0.385564</td>\n",
              "    </tr>\n",
              "    <tr>\n",
              "      <th>2</th>\n",
              "      <td>0.147288</td>\n",
              "      <td>-0.019866</td>\n",
              "      <td>0.408342</td>\n",
              "      <td>-0.424818</td>\n",
              "      <td>0.714683</td>\n",
              "      <td>-0.008334</td>\n",
              "      <td>0.142225</td>\n",
              "      <td>-0.509290</td>\n",
              "      <td>-0.463963</td>\n",
              "    </tr>\n",
              "    <tr>\n",
              "      <th>3</th>\n",
              "      <td>0.393304</td>\n",
              "      <td>0.109336</td>\n",
              "      <td>-0.717124</td>\n",
              "      <td>-0.014676</td>\n",
              "      <td>0.343103</td>\n",
              "      <td>-0.014901</td>\n",
              "      <td>-0.931508</td>\n",
              "      <td>-0.650256</td>\n",
              "      <td>-0.071965</td>\n",
              "    </tr>\n",
              "    <tr>\n",
              "      <th>4</th>\n",
              "      <td>0.557315</td>\n",
              "      <td>0.018895</td>\n",
              "      <td>-0.379484</td>\n",
              "      <td>-0.014676</td>\n",
              "      <td>0.900473</td>\n",
              "      <td>-0.028035</td>\n",
              "      <td>-0.854813</td>\n",
              "      <td>-1.073152</td>\n",
              "      <td>-0.463963</td>\n",
              "    </tr>\n",
              "  </tbody>\n",
              "</table>\n",
              "</div>"
            ],
            "text/plain": [
              "          0         1         2  ...         6         7         8\n",
              "0  0.557315 -0.006946 -0.492030  ... -0.931508  1.746157  1.966424\n",
              "1  0.639320 -0.006946  1.196168  ...  0.218920 -0.321336 -0.385564\n",
              "2  0.147288 -0.019866  0.408342  ...  0.142225 -0.509290 -0.463963\n",
              "3  0.393304  0.109336 -0.717124  ... -0.931508 -0.650256 -0.071965\n",
              "4  0.557315  0.018895 -0.379484  ... -0.854813 -1.073152 -0.463963\n",
              "\n",
              "[5 rows x 9 columns]"
            ]
          },
          "metadata": {
            "tags": []
          },
          "execution_count": 16
        }
      ]
    },
    {
      "cell_type": "code",
      "metadata": {
        "id": "J7Ks5BLJD0-l",
        "colab_type": "code",
        "colab": {}
      },
      "source": [
        "scaled_df1 = scaled_df1.join(col9t)"
      ],
      "execution_count": 0,
      "outputs": []
    },
    {
      "cell_type": "code",
      "metadata": {
        "id": "aP1yoWAi7ik8",
        "colab_type": "code",
        "colab": {}
      },
      "source": [
        "scaled_df1.to_csv('test2.csv', index = False)"
      ],
      "execution_count": 0,
      "outputs": []
    },
    {
      "cell_type": "code",
      "metadata": {
        "id": "L0buss0V7rN0",
        "colab_type": "code",
        "colab": {}
      },
      "source": [
        "data10 = pd.read_csv('test2.csv')"
      ],
      "execution_count": 0,
      "outputs": []
    },
    {
      "cell_type": "code",
      "metadata": {
        "id": "a-iASPiUFO1d",
        "colab_type": "code",
        "colab": {
          "base_uri": "https://localhost:8080/",
          "height": 224
        },
        "outputId": "9801513f-bd0b-4ec1-8b3c-f2859409a206"
      },
      "source": [
        "data10.head()"
      ],
      "execution_count": 26,
      "outputs": [
        {
          "output_type": "execute_result",
          "data": {
            "text/html": [
              "<div>\n",
              "<style scoped>\n",
              "    .dataframe tbody tr th:only-of-type {\n",
              "        vertical-align: middle;\n",
              "    }\n",
              "\n",
              "    .dataframe tbody tr th {\n",
              "        vertical-align: top;\n",
              "    }\n",
              "\n",
              "    .dataframe thead th {\n",
              "        text-align: right;\n",
              "    }\n",
              "</style>\n",
              "<table border=\"1\" class=\"dataframe\">\n",
              "  <thead>\n",
              "    <tr style=\"text-align: right;\">\n",
              "      <th></th>\n",
              "      <th>0</th>\n",
              "      <th>1</th>\n",
              "      <th>2</th>\n",
              "      <th>3</th>\n",
              "      <th>4</th>\n",
              "      <th>5</th>\n",
              "      <th>6</th>\n",
              "      <th>7</th>\n",
              "      <th>8</th>\n",
              "      <th>9</th>\n",
              "    </tr>\n",
              "  </thead>\n",
              "  <tbody>\n",
              "    <tr>\n",
              "      <th>0</th>\n",
              "      <td>0.557315</td>\n",
              "      <td>-0.006946</td>\n",
              "      <td>-0.492030</td>\n",
              "      <td>-0.014676</td>\n",
              "      <td>-1.886377</td>\n",
              "      <td>0.027786</td>\n",
              "      <td>-0.931508</td>\n",
              "      <td>1.746157</td>\n",
              "      <td>1.966424</td>\n",
              "      <td>4</td>\n",
              "    </tr>\n",
              "    <tr>\n",
              "      <th>1</th>\n",
              "      <td>0.639320</td>\n",
              "      <td>-0.006946</td>\n",
              "      <td>1.196168</td>\n",
              "      <td>-0.014676</td>\n",
              "      <td>0.807578</td>\n",
              "      <td>-0.021468</td>\n",
              "      <td>0.218920</td>\n",
              "      <td>-0.321336</td>\n",
              "      <td>-0.385564</td>\n",
              "      <td>4</td>\n",
              "    </tr>\n",
              "    <tr>\n",
              "      <th>2</th>\n",
              "      <td>0.147288</td>\n",
              "      <td>-0.019866</td>\n",
              "      <td>0.408342</td>\n",
              "      <td>-0.424818</td>\n",
              "      <td>0.714683</td>\n",
              "      <td>-0.008334</td>\n",
              "      <td>0.142225</td>\n",
              "      <td>-0.509290</td>\n",
              "      <td>-0.463963</td>\n",
              "      <td>1</td>\n",
              "    </tr>\n",
              "    <tr>\n",
              "      <th>3</th>\n",
              "      <td>0.393304</td>\n",
              "      <td>0.109336</td>\n",
              "      <td>-0.717124</td>\n",
              "      <td>-0.014676</td>\n",
              "      <td>0.343103</td>\n",
              "      <td>-0.014901</td>\n",
              "      <td>-0.931508</td>\n",
              "      <td>-0.650256</td>\n",
              "      <td>-0.071965</td>\n",
              "      <td>4</td>\n",
              "    </tr>\n",
              "    <tr>\n",
              "      <th>4</th>\n",
              "      <td>0.557315</td>\n",
              "      <td>0.018895</td>\n",
              "      <td>-0.379484</td>\n",
              "      <td>-0.014676</td>\n",
              "      <td>0.900473</td>\n",
              "      <td>-0.028035</td>\n",
              "      <td>-0.854813</td>\n",
              "      <td>-1.073152</td>\n",
              "      <td>-0.463963</td>\n",
              "      <td>1</td>\n",
              "    </tr>\n",
              "  </tbody>\n",
              "</table>\n",
              "</div>"
            ],
            "text/plain": [
              "          0         1         2         3  ...         6         7         8  9\n",
              "0  0.557315 -0.006946 -0.492030 -0.014676  ... -0.931508  1.746157  1.966424  4\n",
              "1  0.639320 -0.006946  1.196168 -0.014676  ...  0.218920 -0.321336 -0.385564  4\n",
              "2  0.147288 -0.019866  0.408342 -0.424818  ...  0.142225 -0.509290 -0.463963  1\n",
              "3  0.393304  0.109336 -0.717124 -0.014676  ... -0.931508 -0.650256 -0.071965  4\n",
              "4  0.557315  0.018895 -0.379484 -0.014676  ... -0.854813 -1.073152 -0.463963  1\n",
              "\n",
              "[5 rows x 10 columns]"
            ]
          },
          "metadata": {
            "tags": []
          },
          "execution_count": 26
        }
      ]
    },
    {
      "cell_type": "code",
      "metadata": {
        "id": "JxKQaLl7FSHE",
        "colab_type": "code",
        "colab": {}
      },
      "source": [
        ""
      ],
      "execution_count": 0,
      "outputs": []
    }
  ]
}